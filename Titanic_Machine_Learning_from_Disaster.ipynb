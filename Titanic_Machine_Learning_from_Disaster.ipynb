{
  "nbformat": 4,
  "nbformat_minor": 0,
  "metadata": {
    "colab": {
      "provenance": [],
      "authorship_tag": "ABX9TyMyaEfAN5PLnJ0aVbGO0DQh",
      "include_colab_link": true
    },
    "kernelspec": {
      "name": "python3",
      "display_name": "Python 3"
    },
    "language_info": {
      "name": "python"
    }
  },
  "cells": [
    {
      "cell_type": "markdown",
      "metadata": {
        "id": "view-in-github",
        "colab_type": "text"
      },
      "source": [
        "<a href=\"https://colab.research.google.com/github/Somtochukwu-Achikanu/Projects/blob/main/Titanic_Machine_Learning_from_Disaster.ipynb\" target=\"_parent\"><img src=\"https://colab.research.google.com/assets/colab-badge.svg\" alt=\"Open In Colab\"/></a>"
      ]
    },
    {
      "cell_type": "code",
      "execution_count": null,
      "metadata": {
        "id": "Y1CFZV8fKNd-"
      },
      "outputs": [],
      "source": [
        "import pandas as pd\n",
        "import numpy as np"
      ]
    },
    {
      "cell_type": "code",
      "source": [
        "gender = pd.read_csv('/content/gender_submission.csv')\n",
        "print(gender.info())\n",
        "print(gender.head())"
      ],
      "metadata": {
        "id": "JpcA5wdZP6lI"
      },
      "execution_count": null,
      "outputs": []
    },
    {
      "cell_type": "code",
      "source": [
        "test = pd.read_csv('/content/test.csv')\n",
        "print(test.info())\n",
        "print(test.head())"
      ],
      "metadata": {
        "id": "U_qo5SQQPw0x"
      },
      "execution_count": null,
      "outputs": []
    },
    {
      "cell_type": "code",
      "source": [
        "train = pd.read_csv('/content/train.csv')\n",
        "print(train.info())\n",
        "print(train.head())"
      ],
      "metadata": {
        "id": "zRhsMS-FP4OX"
      },
      "execution_count": null,
      "outputs": []
    },
    {
      "cell_type": "code",
      "source": [
        "#value count how many men and women survived\n",
        "counts = train['Survived'].value_counts()\n",
        "print(counts)"
      ],
      "metadata": {
        "id": "OdUSVtBwMLmf"
      },
      "execution_count": null,
      "outputs": []
    },
    {
      "cell_type": "code",
      "source": [
        "#Putting feature variable to X and Target variable to y\n",
        "y = train['Survived']\n",
        "\n",
        "\n",
        "features = [\"Pclass\", \"Sex\", \"SibSp\", \"Parch\"]\n",
        "X = pd.get_dummies(train[features])\n",
        "X_test = pd.get_dummies(test[features])"
      ],
      "metadata": {
        "id": "ed-n1CXhTbS9"
      },
      "execution_count": null,
      "outputs": []
    },
    {
      "cell_type": "code",
      "source": [
        "from pandas.core.arrays.sparse.array import maybe_box_datetimelike\n",
        "from sklearn.ensemble import RandomForestClassifier\n",
        "\n",
        "model= RandomForestClassifier(random_state=42,n_estimators=100,max_depth=5)\n",
        "\n",
        "#Fit the classifier into the training set\n",
        "model.fit(X,y)\n",
        "\n",
        "#predictions\n",
        "prediction = model.predict(X_test)"
      ],
      "metadata": {
        "id": "Ye2k0oZOcw0c"
      },
      "execution_count": null,
      "outputs": []
    },
    {
      "cell_type": "code",
      "source": [
        "#Hyperparameter tuning using GridsearchCV\n",
        "\n",
        "from sklearn.model_selection import GridSearchCV\n",
        "\n",
        "params = {'max_depth': [2,3,5,10,20],\n",
        "          'n_estimators': [10,25,30,50,100,200]}\n",
        "\n",
        "Rf_cv = GridSearchCV(model, params, cv=5,scoring=\"accuracy\")"
      ],
      "metadata": {
        "id": "GX_kDr2UeZYX"
      },
      "execution_count": null,
      "outputs": []
    },
    {
      "cell_type": "code",
      "source": [
        "#Fit the Rf_cv\n",
        "\n",
        "Rf_cv.fit(X,y)\n",
        "\n",
        "print(Rf_cv.best_score_)"
      ],
      "metadata": {
        "colab": {
          "base_uri": "https://localhost:8080/"
        },
        "id": "iN4J6FThmL6k",
        "outputId": "13dbc593-edee-45ad-ced2-e638cbca5c7f"
      },
      "execution_count": null,
      "outputs": [
        {
          "output_type": "stream",
          "name": "stdout",
          "text": [
            "0.8058313979034587\n"
          ]
        }
      ]
    },
    {
      "cell_type": "code",
      "source": [
        "#Predictions\n",
        "\n",
        "prediction = Rf_cv.predict(X_test)"
      ],
      "metadata": {
        "id": "E16FjUoQnIwx"
      },
      "execution_count": null,
      "outputs": []
    },
    {
      "cell_type": "code",
      "source": [
        "output = pd.DataFrame({'PassengerId': test.PassengerId, 'Survived': prediction})\n",
        "output.to_csv('submission.csv', index=False)\n",
        "print(\"Your submission was successfully saved!\")"
      ],
      "metadata": {
        "colab": {
          "base_uri": "https://localhost:8080/"
        },
        "id": "EM7s337GqBmH",
        "outputId": "070671af-7bc9-49b5-a76b-68c860c86a32"
      },
      "execution_count": null,
      "outputs": [
        {
          "output_type": "stream",
          "name": "stdout",
          "text": [
            "Your submission was successfully saved!\n"
          ]
        }
      ]
    }
  ]
}